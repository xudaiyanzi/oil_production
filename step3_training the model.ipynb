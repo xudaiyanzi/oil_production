{
 "cells": [
  {
   "cell_type": "code",
   "execution_count": 1,
   "metadata": {},
   "outputs": [
    {
     "data": {
      "text/html": [
       "<div>\n",
       "<style scoped>\n",
       "    .dataframe tbody tr th:only-of-type {\n",
       "        vertical-align: middle;\n",
       "    }\n",
       "\n",
       "    .dataframe tbody tr th {\n",
       "        vertical-align: top;\n",
       "    }\n",
       "\n",
       "    .dataframe thead th {\n",
       "        text-align: right;\n",
       "    }\n",
       "</style>\n",
       "<table border=\"1\" class=\"dataframe\">\n",
       "  <thead>\n",
       "    <tr style=\"text-align: right;\">\n",
       "      <th></th>\n",
       "      <th>production</th>\n",
       "      <th>azimuth</th>\n",
       "      <th>md (ft)</th>\n",
       "      <th>tvd (ft)</th>\n",
       "      <th>footage lateral length</th>\n",
       "      <th>well spacing</th>\n",
       "      <th>porpoise deviation</th>\n",
       "      <th>porpoise count</th>\n",
       "      <th>shale footage</th>\n",
       "      <th>acoustic impedance</th>\n",
       "      <th>...</th>\n",
       "      <th>youngs modulus</th>\n",
       "      <th>isip</th>\n",
       "      <th>breakdown pressure</th>\n",
       "      <th>pump rate</th>\n",
       "      <th>total number of stages</th>\n",
       "      <th>proppant volume</th>\n",
       "      <th>proppant fluid ratio</th>\n",
       "      <th>tc_number</th>\n",
       "      <th>op_number</th>\n",
       "      <th>date_sec</th>\n",
       "    </tr>\n",
       "  </thead>\n",
       "  <tbody>\n",
       "    <tr>\n",
       "      <th>0</th>\n",
       "      <td>5614.947951</td>\n",
       "      <td>-32.279999</td>\n",
       "      <td>19148</td>\n",
       "      <td>6443.0</td>\n",
       "      <td>11966.0</td>\n",
       "      <td>4368.46290</td>\n",
       "      <td>6.33</td>\n",
       "      <td>12</td>\n",
       "      <td>1093</td>\n",
       "      <td>30123.20</td>\n",
       "      <td>...</td>\n",
       "      <td>30.82</td>\n",
       "      <td>4149.0</td>\n",
       "      <td>NaN</td>\n",
       "      <td>83</td>\n",
       "      <td>56</td>\n",
       "      <td>21568792.0</td>\n",
       "      <td>1.23</td>\n",
       "      <td>1</td>\n",
       "      <td>1</td>\n",
       "      <td>1519862400</td>\n",
       "    </tr>\n",
       "    <tr>\n",
       "      <th>1</th>\n",
       "      <td>2188.836707</td>\n",
       "      <td>-19.799999</td>\n",
       "      <td>15150</td>\n",
       "      <td>7602.0</td>\n",
       "      <td>6890.0</td>\n",
       "      <td>4714.99220</td>\n",
       "      <td>1.28</td>\n",
       "      <td>4</td>\n",
       "      <td>0</td>\n",
       "      <td>30951.61</td>\n",
       "      <td>...</td>\n",
       "      <td>29.72</td>\n",
       "      <td>5776.0</td>\n",
       "      <td>NaN</td>\n",
       "      <td>102</td>\n",
       "      <td>33</td>\n",
       "      <td>9841307.0</td>\n",
       "      <td>1.47</td>\n",
       "      <td>2</td>\n",
       "      <td>2</td>\n",
       "      <td>1404172800</td>\n",
       "    </tr>\n",
       "    <tr>\n",
       "      <th>2</th>\n",
       "      <td>1450.033022</td>\n",
       "      <td>-26.879999</td>\n",
       "      <td>14950</td>\n",
       "      <td>5907.0</td>\n",
       "      <td>8793.0</td>\n",
       "      <td>798.92096</td>\n",
       "      <td>2.03</td>\n",
       "      <td>6</td>\n",
       "      <td>3254</td>\n",
       "      <td>28900.25</td>\n",
       "      <td>...</td>\n",
       "      <td>30.99</td>\n",
       "      <td>4628.0</td>\n",
       "      <td>NaN</td>\n",
       "      <td>88</td>\n",
       "      <td>62</td>\n",
       "      <td>17116240.0</td>\n",
       "      <td>1.67</td>\n",
       "      <td>3</td>\n",
       "      <td>1</td>\n",
       "      <td>1533081600</td>\n",
       "    </tr>\n",
       "    <tr>\n",
       "      <th>3</th>\n",
       "      <td>1060.764407</td>\n",
       "      <td>-49.099998</td>\n",
       "      <td>11098</td>\n",
       "      <td>6538.0</td>\n",
       "      <td>4234.0</td>\n",
       "      <td>NaN</td>\n",
       "      <td>6.00</td>\n",
       "      <td>23</td>\n",
       "      <td>7470</td>\n",
       "      <td>32826.08</td>\n",
       "      <td>...</td>\n",
       "      <td>26.20</td>\n",
       "      <td>4582.0</td>\n",
       "      <td>NaN</td>\n",
       "      <td>100</td>\n",
       "      <td>11</td>\n",
       "      <td>3749559.0</td>\n",
       "      <td>0.77</td>\n",
       "      <td>4</td>\n",
       "      <td>1</td>\n",
       "      <td>1325376000</td>\n",
       "    </tr>\n",
       "    <tr>\n",
       "      <th>4</th>\n",
       "      <td>607.530385</td>\n",
       "      <td>5.560000</td>\n",
       "      <td>10549</td>\n",
       "      <td>7024.0</td>\n",
       "      <td>2972.0</td>\n",
       "      <td>2967.56300</td>\n",
       "      <td>11.87</td>\n",
       "      <td>9</td>\n",
       "      <td>3637</td>\n",
       "      <td>26740.05</td>\n",
       "      <td>...</td>\n",
       "      <td>31.18</td>\n",
       "      <td>4909.0</td>\n",
       "      <td>NaN</td>\n",
       "      <td>94</td>\n",
       "      <td>9</td>\n",
       "      <td>6690705.0</td>\n",
       "      <td>1.32</td>\n",
       "      <td>5</td>\n",
       "      <td>3</td>\n",
       "      <td>1325376000</td>\n",
       "    </tr>\n",
       "  </tbody>\n",
       "</table>\n",
       "<p>5 rows × 28 columns</p>\n",
       "</div>"
      ],
      "text/plain": [
       "    production    azimuth  md (ft)  tvd (ft)  footage lateral length  \\\n",
       "0  5614.947951 -32.279999    19148    6443.0                 11966.0   \n",
       "1  2188.836707 -19.799999    15150    7602.0                  6890.0   \n",
       "2  1450.033022 -26.879999    14950    5907.0                  8793.0   \n",
       "3  1060.764407 -49.099998    11098    6538.0                  4234.0   \n",
       "4   607.530385   5.560000    10549    7024.0                  2972.0   \n",
       "\n",
       "   well spacing  porpoise deviation  porpoise count  shale footage  \\\n",
       "0    4368.46290                6.33              12           1093   \n",
       "1    4714.99220                1.28               4              0   \n",
       "2     798.92096                2.03               6           3254   \n",
       "3           NaN                6.00              23           7470   \n",
       "4    2967.56300               11.87               9           3637   \n",
       "\n",
       "   acoustic impedance  ...  youngs modulus    isip  breakdown pressure  \\\n",
       "0            30123.20  ...           30.82  4149.0                 NaN   \n",
       "1            30951.61  ...           29.72  5776.0                 NaN   \n",
       "2            28900.25  ...           30.99  4628.0                 NaN   \n",
       "3            32826.08  ...           26.20  4582.0                 NaN   \n",
       "4            26740.05  ...           31.18  4909.0                 NaN   \n",
       "\n",
       "   pump rate  total number of stages  proppant volume  proppant fluid ratio  \\\n",
       "0         83                      56       21568792.0                  1.23   \n",
       "1        102                      33        9841307.0                  1.47   \n",
       "2         88                      62       17116240.0                  1.67   \n",
       "3        100                      11        3749559.0                  0.77   \n",
       "4         94                       9        6690705.0                  1.32   \n",
       "\n",
       "   tc_number  op_number    date_sec  \n",
       "0          1          1  1519862400  \n",
       "1          2          2  1404172800  \n",
       "2          3          1  1533081600  \n",
       "3          4          1  1325376000  \n",
       "4          5          3  1325376000  \n",
       "\n",
       "[5 rows x 28 columns]"
      ]
     },
     "execution_count": 1,
     "metadata": {},
     "output_type": "execute_result"
    }
   ],
   "source": [
    "############################################################################################################################\n",
    "#############################                     convert data into df                    ##################################\n",
    "############################################################################################################################\n",
    "\n",
    "\n",
    "import pandas as pd\n",
    "import numpy as np\n",
    "\n",
    "# read data as framework\n",
    "df = pd.read_csv('./data_integer_shift_column.csv')\n",
    "\n",
    "# check the framework\n",
    "df.head()"
   ]
  },
  {
   "cell_type": "code",
   "execution_count": 2,
   "metadata": {},
   "outputs": [],
   "source": [
    "##### according to step 2. the following attributes are important for regression\n",
    "df_att = df[['tvd (ft)',\n",
    "             'well spacing',\n",
    "             'log permeability',\n",
    "             'porosity',\n",
    "             'poisson ratio',\n",
    "             'p-velocity',\n",
    "             's-velocity', \n",
    "             'youngs modulus', \n",
    "             'total number of stages',\n",
    "             'proppant volume',\n",
    "             'date_sec',\n",
    "              'op_number',\n",
    "             'production']]"
   ]
  },
  {
   "cell_type": "code",
   "execution_count": 3,
   "metadata": {},
   "outputs": [
    {
     "data": {
      "text/plain": [
       "0"
      ]
     },
     "execution_count": 3,
     "metadata": {},
     "output_type": "execute_result"
    }
   ],
   "source": [
    "#############################################   using KNN to predict the missing data   #####################################################\n",
    "\n",
    "\n",
    "##############################    scale the data before prediction\n",
    "\n",
    "from sklearn.preprocessing import MinMaxScaler\n",
    "\n",
    "scaler = MinMaxScaler()\n",
    "df_att_sc = pd.DataFrame(scaler.fit_transform(df_att), columns = df_att.columns)\n",
    "# df_sc.head()\n",
    "\n",
    "\n",
    "#############################      KNN prediction\n",
    "\n",
    "from sklearn.impute import KNNImputer\n",
    "\n",
    "imputer = KNNImputer(n_neighbors=5)\n",
    "df_sc_knn = pd.DataFrame(imputer.fit_transform(df_att_sc),columns = df_att_sc.columns)\n",
    "\n",
    "df_sc_knn.isna().sum().sum()"
   ]
  },
  {
   "cell_type": "code",
   "execution_count": 4,
   "metadata": {},
   "outputs": [],
   "source": [
    "#############################      set x and y for the models\n",
    "\n",
    "x = df_sc_knn.drop(['production'], axis=1)\n",
    "\n",
    "y = df_sc_knn['production'].values.reshape(-1, 1)"
   ]
  },
  {
   "cell_type": "code",
   "execution_count": 5,
   "metadata": {},
   "outputs": [],
   "source": [
    "#############################     split the data into training and testing     \n",
    "\n",
    "from sklearn.model_selection import train_test_split\n",
    "x_train, x_test, y_train, y_test = train_test_split(x, y, test_size = 0.3)"
   ]
  },
  {
   "cell_type": "code",
   "execution_count": 6,
   "metadata": {},
   "outputs": [],
   "source": [
    "#############################     scaling the data \n",
    "\n",
    "\n",
    "from sklearn.preprocessing import StandardScaler\n",
    "\n",
    "x_scaler = StandardScaler().fit(x_train)\n",
    "y_scaler = StandardScaler().fit(y_train)\n",
    "\n",
    "\n",
    "x_train_scaled = x_scaler.transform(x_train)\n",
    "x_test_scaled = x_scaler.transform(x_test)\n",
    "y_train_scaled = y_scaler.transform(y_train)\n",
    "y_test_scaled = y_scaler.transform(y_test)\n"
   ]
  },
  {
   "cell_type": "code",
   "execution_count": 7,
   "metadata": {},
   "outputs": [
    {
     "name": "stdout",
     "output_type": "stream",
     "text": [
      "[2.01389032e-16]\n"
     ]
    }
   ],
   "source": [
    "#############################     regression\n",
    "\n",
    "from sklearn.linear_model import LinearRegression\n",
    "model = LinearRegression()\n",
    "\n",
    "model.fit(x_train_scaled, y_train_scaled)\n",
    "\n",
    "print(model.intercept_)"
   ]
  },
  {
   "cell_type": "code",
   "execution_count": 8,
   "metadata": {},
   "outputs": [],
   "source": [
    "# print(model.coef_)"
   ]
  },
  {
   "cell_type": "code",
   "execution_count": 9,
   "metadata": {},
   "outputs": [
    {
     "data": {
      "text/html": [
       "<div>\n",
       "<style scoped>\n",
       "    .dataframe tbody tr th:only-of-type {\n",
       "        vertical-align: middle;\n",
       "    }\n",
       "\n",
       "    .dataframe tbody tr th {\n",
       "        vertical-align: top;\n",
       "    }\n",
       "\n",
       "    .dataframe thead th {\n",
       "        text-align: right;\n",
       "    }\n",
       "</style>\n",
       "<table border=\"1\" class=\"dataframe\">\n",
       "  <thead>\n",
       "    <tr style=\"text-align: right;\">\n",
       "      <th></th>\n",
       "      <th>Coeff</th>\n",
       "    </tr>\n",
       "  </thead>\n",
       "  <tbody>\n",
       "    <tr>\n",
       "      <th>tvd (ft)</th>\n",
       "      <td>0.308810</td>\n",
       "    </tr>\n",
       "    <tr>\n",
       "      <th>well spacing</th>\n",
       "      <td>0.034014</td>\n",
       "    </tr>\n",
       "    <tr>\n",
       "      <th>log permeability</th>\n",
       "      <td>-0.062347</td>\n",
       "    </tr>\n",
       "    <tr>\n",
       "      <th>porosity</th>\n",
       "      <td>-0.096391</td>\n",
       "    </tr>\n",
       "    <tr>\n",
       "      <th>poisson ratio</th>\n",
       "      <td>0.158985</td>\n",
       "    </tr>\n",
       "    <tr>\n",
       "      <th>p-velocity</th>\n",
       "      <td>-0.260111</td>\n",
       "    </tr>\n",
       "    <tr>\n",
       "      <th>s-velocity</th>\n",
       "      <td>0.143026</td>\n",
       "    </tr>\n",
       "    <tr>\n",
       "      <th>youngs modulus</th>\n",
       "      <td>-0.444444</td>\n",
       "    </tr>\n",
       "    <tr>\n",
       "      <th>total number of stages</th>\n",
       "      <td>0.091974</td>\n",
       "    </tr>\n",
       "    <tr>\n",
       "      <th>proppant volume</th>\n",
       "      <td>0.461304</td>\n",
       "    </tr>\n",
       "    <tr>\n",
       "      <th>date_sec</th>\n",
       "      <td>0.160319</td>\n",
       "    </tr>\n",
       "    <tr>\n",
       "      <th>op_number</th>\n",
       "      <td>-0.050271</td>\n",
       "    </tr>\n",
       "  </tbody>\n",
       "</table>\n",
       "</div>"
      ],
      "text/plain": [
       "                           Coeff\n",
       "tvd (ft)                0.308810\n",
       "well spacing            0.034014\n",
       "log permeability       -0.062347\n",
       "porosity               -0.096391\n",
       "poisson ratio           0.158985\n",
       "p-velocity             -0.260111\n",
       "s-velocity              0.143026\n",
       "youngs modulus         -0.444444\n",
       "total number of stages  0.091974\n",
       "proppant volume         0.461304\n",
       "date_sec                0.160319\n",
       "op_number              -0.050271"
      ]
     },
     "execution_count": 9,
     "metadata": {},
     "output_type": "execute_result"
    }
   ],
   "source": [
    "#############################     print the coeff as a dataframe\n",
    "\n",
    "pd.DataFrame(model.coef_[0], x.columns, columns = ['Coeff'])"
   ]
  },
  {
   "cell_type": "code",
   "execution_count": 10,
   "metadata": {},
   "outputs": [],
   "source": [
    "#############################      do the prediction    \n",
    "\n",
    "predictions = model.predict(x_test_scaled)"
   ]
  },
  {
   "cell_type": "code",
   "execution_count": 11,
   "metadata": {},
   "outputs": [
    {
     "data": {
      "text/plain": [
       "<Figure size 640x480 with 1 Axes>"
      ]
     },
     "metadata": {},
     "output_type": "display_data"
    }
   ],
   "source": [
    "#############################      plot the training and test data\n",
    "\n",
    "import matplotlib.pyplot as plt\n",
    "\n",
    "\n",
    "plt.scatter(model.predict(x_train_scaled), model.predict(x_train_scaled) - y_train_scaled, c=\"blue\", label=\"Training Data\")\n",
    "plt.scatter(model.predict(x_test_scaled), model.predict(x_test_scaled) - y_test_scaled, c=\"orange\", label=\"Testing Data\")\n",
    "plt.legend()\n",
    "plt.hlines(y=0, xmin=y_test_scaled.min(), xmax=y_test_scaled.max())\n",
    "plt.title(\"Residual Plot\")\n",
    "plt.show()"
   ]
  },
  {
   "cell_type": "code",
   "execution_count": 12,
   "metadata": {},
   "outputs": [
    {
     "name": "stdout",
     "output_type": "stream",
     "text": [
      "MSE: 0.5280471190031737, R2: 0.5461795642750068\n"
     ]
    }
   ],
   "source": [
    "#############################      printing the MSE and R2\n",
    "\n",
    "\n",
    "from sklearn.metrics import mean_squared_error\n",
    "\n",
    "MSE = mean_squared_error(y_test_scaled, predictions)\n",
    "r2 = model.score(x_test_scaled, y_test_scaled)\n",
    "\n",
    "print(f\"MSE: {MSE}, R2: {r2}\")"
   ]
  },
  {
   "cell_type": "code",
   "execution_count": 13,
   "metadata": {},
   "outputs": [
    {
     "data": {
      "text/plain": [
       "Text(0.5,1,'Hist Plot')"
      ]
     },
     "execution_count": 13,
     "metadata": {},
     "output_type": "execute_result"
    },
    {
     "data": {
      "image/png": "[encoded data removed]",
      "text/plain": [
       "<Figure size 432x288 with 1 Axes>"
      ]
     },
     "metadata": {
      "needs_background": "light"
     },
     "output_type": "display_data"
    }
   ],
   "source": [
    "#############################      plot the hist graph\n",
    "\n",
    "plt.hist(y_test_scaled - predictions)\n",
    "plt.title(\"Hist Plot\")"
   ]
  },
  {
   "cell_type": "code",
   "execution_count": 14,
   "metadata": {},
   "outputs": [
    {
     "data": {
      "text/plain": [
       "0.5101066474980755"
      ]
     },
     "execution_count": 14,
     "metadata": {},
     "output_type": "execute_result"
    }
   ],
   "source": [
    "#############################      printing the mean absolute error\n",
    "\n",
    "\n",
    "from sklearn import metrics\n",
    "metrics.mean_absolute_error(y_test_scaled, predictions)"
   ]
  },
  {
   "cell_type": "code",
   "execution_count": 15,
   "metadata": {},
   "outputs": [],
   "source": [
    "############################## As abserved, the R2 ~0.55 was too small, the prediction model needs to be improved"
   ]
  }
 ],
 "metadata": {
  "kernelspec": {
   "display_name": "Python 3",
   "language": "python",
   "name": "python3"
  },
  "language_info": {
   "codemirror_mode": {
    "name": "ipython",
    "version": 3
   },
   "file_extension": ".py",
   "mimetype": "text/x-python",
   "name": "python",
   "nbconvert_exporter": "python",
   "pygments_lexer": "ipython3",
   "version": "3.7.2"
  }
 },
 "nbformat": 4,
 "nbformat_minor": 4
}
